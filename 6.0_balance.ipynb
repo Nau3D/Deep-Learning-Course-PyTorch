{
 "cells": [
  {
   "cell_type": "code",
   "execution_count": 1,
   "metadata": {},
   "outputs": [],
   "source": [
    "from PIL import Image, ImageEnhance\n",
    "import random\n",
    "import os"
   ]
  },
  {
   "cell_type": "code",
   "execution_count": 2,
   "metadata": {},
   "outputs": [],
   "source": [
    "IMAGES_PER_CLASS = 2000\n",
    "data_path = 'h:/vcpi/gtsrb'"
   ]
  },
  {
   "cell_type": "code",
   "execution_count": 3,
   "metadata": {},
   "outputs": [],
   "source": [
    "classes = os.listdir(f'{data_path}/train_balanced_{IMAGES_PER_CLASS}')\n",
    "\n",
    "list_img = []\n",
    "for cla in classes:\n",
    "    list_img = os.listdir(f'{data_path}/train_balanced_{IMAGES_PER_CLASS}/{cla}')\n",
    "    random.shuffle(list_img)\n",
    "    for k in range(len(list_img), IMAGES_PER_CLASS):\n",
    "\n",
    "        filename = f'{data_path}/train_balanced_{IMAGES_PER_CLASS}/{cla}/{list_img[(k - len(list_img)) % len(list_img)]}'\n",
    "        im = Image.open(filename)\n",
    "\n",
    "        r = random.uniform(-10.0,10.0)\n",
    "        im = im.rotate(r)\n",
    "        r1 = random.uniform(-3.0,3.0)\n",
    "        r2 = random.uniform(-3.0,3.0)\n",
    "\n",
    "        im = im.transform(im.size, Image.Transform.AFFINE, (1, 0, r1, 0, 1, r2))\n",
    "\n",
    "        r = random.uniform(1.0, 1.3)\n",
    "        im = ImageEnhance.Sharpness(im)\n",
    "        im = im.enhance(r)\n",
    "\n",
    "        r = random.uniform(1.0, 1.3)\n",
    "        im = ImageEnhance.Contrast(im)\n",
    "        im = im.enhance(r)\n",
    "        \n",
    "        im = im.resize((32,32))\n",
    "\n",
    "        im.save(f'{data_path}/train_balanced_{IMAGES_PER_CLASS}/{cla}/_{k}.png')\n"
   ]
  }
 ],
 "metadata": {
  "kernelspec": {
   "display_name": "Python 3",
   "language": "python",
   "name": "python3"
  },
  "language_info": {
   "codemirror_mode": {
    "name": "ipython",
    "version": 3
   },
   "file_extension": ".py",
   "mimetype": "text/x-python",
   "name": "python",
   "nbconvert_exporter": "python",
   "pygments_lexer": "ipython3",
   "version": "3.11.3"
  },
  "orig_nbformat": 4
 },
 "nbformat": 4,
 "nbformat_minor": 2
}
